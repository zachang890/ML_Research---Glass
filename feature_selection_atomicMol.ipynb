{
 "cells": [
  {
   "cell_type": "code",
   "execution_count": 5,
   "metadata": {
    "scrolled": true
   },
   "outputs": [
    {
     "data": {
      "text/html": [
       "<div>\n",
       "<style scoped>\n",
       "    .dataframe tbody tr th:only-of-type {\n",
       "        vertical-align: middle;\n",
       "    }\n",
       "\n",
       "    .dataframe tbody tr th {\n",
       "        vertical-align: top;\n",
       "    }\n",
       "\n",
       "    .dataframe thead th {\n",
       "        text-align: right;\n",
       "    }\n",
       "</style>\n",
       "<table border=\"1\" class=\"dataframe\">\n",
       "  <thead>\n",
       "    <tr style=\"text-align: right;\">\n",
       "      <th></th>\n",
       "      <th>Al2O3</th>\n",
       "      <th>As2O5</th>\n",
       "      <th>B2O3</th>\n",
       "      <th>BaO</th>\n",
       "      <th>BeO</th>\n",
       "      <th>CaO</th>\n",
       "      <th>CdO</th>\n",
       "      <th>Cs2O</th>\n",
       "      <th>Ga2O3</th>\n",
       "      <th>K2O</th>\n",
       "      <th>...</th>\n",
       "      <th>P2O5</th>\n",
       "      <th>PbO</th>\n",
       "      <th>Sc2O3</th>\n",
       "      <th>SiO2</th>\n",
       "      <th>SnO2</th>\n",
       "      <th>SrO</th>\n",
       "      <th>TiO2</th>\n",
       "      <th>Y2O3</th>\n",
       "      <th>ZnO</th>\n",
       "      <th>ZrO2</th>\n",
       "    </tr>\n",
       "  </thead>\n",
       "  <tbody>\n",
       "    <tr>\n",
       "      <th>0</th>\n",
       "      <td>2.0</td>\n",
       "      <td>0.0</td>\n",
       "      <td>0.000000</td>\n",
       "      <td>0.0</td>\n",
       "      <td>0.0</td>\n",
       "      <td>5.0</td>\n",
       "      <td>0.0</td>\n",
       "      <td>0.0</td>\n",
       "      <td>0.0</td>\n",
       "      <td>0.0</td>\n",
       "      <td>...</td>\n",
       "      <td>0.0</td>\n",
       "      <td>0.0</td>\n",
       "      <td>0.0</td>\n",
       "      <td>78.000000</td>\n",
       "      <td>0.0</td>\n",
       "      <td>0.0</td>\n",
       "      <td>0.0</td>\n",
       "      <td>0.0</td>\n",
       "      <td>0.0</td>\n",
       "      <td>0.0</td>\n",
       "    </tr>\n",
       "    <tr>\n",
       "      <th>1</th>\n",
       "      <td>0.0</td>\n",
       "      <td>0.0</td>\n",
       "      <td>6.666667</td>\n",
       "      <td>0.0</td>\n",
       "      <td>0.0</td>\n",
       "      <td>0.0</td>\n",
       "      <td>0.0</td>\n",
       "      <td>0.0</td>\n",
       "      <td>0.0</td>\n",
       "      <td>0.0</td>\n",
       "      <td>...</td>\n",
       "      <td>0.0</td>\n",
       "      <td>0.0</td>\n",
       "      <td>0.0</td>\n",
       "      <td>60.000002</td>\n",
       "      <td>0.0</td>\n",
       "      <td>0.0</td>\n",
       "      <td>0.0</td>\n",
       "      <td>0.0</td>\n",
       "      <td>0.0</td>\n",
       "      <td>0.0</td>\n",
       "    </tr>\n",
       "    <tr>\n",
       "      <th>2</th>\n",
       "      <td>0.0</td>\n",
       "      <td>0.0</td>\n",
       "      <td>87.600000</td>\n",
       "      <td>0.0</td>\n",
       "      <td>0.0</td>\n",
       "      <td>0.0</td>\n",
       "      <td>0.0</td>\n",
       "      <td>0.0</td>\n",
       "      <td>0.0</td>\n",
       "      <td>0.0</td>\n",
       "      <td>...</td>\n",
       "      <td>0.0</td>\n",
       "      <td>0.0</td>\n",
       "      <td>0.0</td>\n",
       "      <td>0.000000</td>\n",
       "      <td>0.0</td>\n",
       "      <td>0.0</td>\n",
       "      <td>0.0</td>\n",
       "      <td>0.0</td>\n",
       "      <td>0.0</td>\n",
       "      <td>0.0</td>\n",
       "    </tr>\n",
       "    <tr>\n",
       "      <th>3</th>\n",
       "      <td>0.0</td>\n",
       "      <td>0.0</td>\n",
       "      <td>0.000000</td>\n",
       "      <td>0.0</td>\n",
       "      <td>0.0</td>\n",
       "      <td>0.0</td>\n",
       "      <td>0.0</td>\n",
       "      <td>0.0</td>\n",
       "      <td>0.0</td>\n",
       "      <td>0.0</td>\n",
       "      <td>...</td>\n",
       "      <td>0.0</td>\n",
       "      <td>0.0</td>\n",
       "      <td>0.0</td>\n",
       "      <td>85.000000</td>\n",
       "      <td>0.0</td>\n",
       "      <td>0.0</td>\n",
       "      <td>0.0</td>\n",
       "      <td>0.0</td>\n",
       "      <td>0.0</td>\n",
       "      <td>0.0</td>\n",
       "    </tr>\n",
       "    <tr>\n",
       "      <th>4</th>\n",
       "      <td>2.0</td>\n",
       "      <td>0.0</td>\n",
       "      <td>0.000000</td>\n",
       "      <td>0.0</td>\n",
       "      <td>0.0</td>\n",
       "      <td>0.0</td>\n",
       "      <td>0.0</td>\n",
       "      <td>0.0</td>\n",
       "      <td>0.0</td>\n",
       "      <td>0.0</td>\n",
       "      <td>...</td>\n",
       "      <td>0.0</td>\n",
       "      <td>0.0</td>\n",
       "      <td>0.0</td>\n",
       "      <td>78.000000</td>\n",
       "      <td>0.0</td>\n",
       "      <td>0.0</td>\n",
       "      <td>0.0</td>\n",
       "      <td>0.0</td>\n",
       "      <td>0.0</td>\n",
       "      <td>0.0</td>\n",
       "    </tr>\n",
       "  </tbody>\n",
       "</table>\n",
       "<p>5 rows × 24 columns</p>\n",
       "</div>"
      ],
      "text/plain": [
       "   Al2O3  As2O5       B2O3  BaO  BeO  CaO  CdO  Cs2O  Ga2O3  K2O  ...  P2O5  \\\n",
       "0    2.0    0.0   0.000000  0.0  0.0  5.0  0.0   0.0    0.0  0.0  ...   0.0   \n",
       "1    0.0    0.0   6.666667  0.0  0.0  0.0  0.0   0.0    0.0  0.0  ...   0.0   \n",
       "2    0.0    0.0  87.600000  0.0  0.0  0.0  0.0   0.0    0.0  0.0  ...   0.0   \n",
       "3    0.0    0.0   0.000000  0.0  0.0  0.0  0.0   0.0    0.0  0.0  ...   0.0   \n",
       "4    2.0    0.0   0.000000  0.0  0.0  0.0  0.0   0.0    0.0  0.0  ...   0.0   \n",
       "\n",
       "   PbO  Sc2O3       SiO2  SnO2  SrO  TiO2  Y2O3  ZnO  ZrO2  \n",
       "0  0.0    0.0  78.000000   0.0  0.0   0.0   0.0  0.0   0.0  \n",
       "1  0.0    0.0  60.000002   0.0  0.0   0.0   0.0  0.0   0.0  \n",
       "2  0.0    0.0   0.000000   0.0  0.0   0.0   0.0  0.0   0.0  \n",
       "3  0.0    0.0  85.000000   0.0  0.0   0.0   0.0  0.0   0.0  \n",
       "4  0.0    0.0  78.000000   0.0  0.0   0.0   0.0  0.0   0.0  \n",
       "\n",
       "[5 rows x 24 columns]"
      ]
     },
     "execution_count": 5,
     "metadata": {},
     "output_type": "execute_result"
    }
   ],
   "source": [
    "import numpy as np\n",
    "import pandas as pd\n",
    "from collections import defaultdict\n",
    "\n",
    "full_data = pd.read_csv(\"./Oxide_glass_1_5_02142020.csv\")\n",
    "full_data = full_data.drop([\"Index\", \"Code\", \"Glass #\", \"Author\", \"Year\", \"Trademark\", \"Glass_composition\", \"Young's modulus E (GPa)\", \"Shear modulus G (GPa)\", \"Poisson's ratio v\"], axis = 1)\n",
    "full_data.head()"
   ]
  },
  {
   "cell_type": "code",
   "execution_count": 6,
   "metadata": {},
   "outputs": [
    {
     "name": "stdout",
     "output_type": "stream",
     "text": [
      "['Al2O3', 'As2O5', 'B2O3', 'BaO', 'BeO', 'CaO', 'CdO', 'Cs2O', 'Ga2O3', 'K2O', 'La2O3', 'Li2O', 'MgO', 'Na2O', 'P2O5', 'PbO', 'Sc2O3', 'SiO2', 'SnO2', 'SrO', 'TiO2', 'Y2O3', 'ZnO', 'ZrO2']\n"
     ]
    }
   ],
   "source": [
    "sample_0 = full_data.iloc[0, :]\n",
    "# for col in full_data.columns:\n",
    "#     print(col)\n",
    "# for i in sample_0:\n",
    "#     print(i)\n",
    "compound_names = [col for col in full_data.columns]\n",
    "print(compound_names)"
   ]
  },
  {
   "cell_type": "code",
   "execution_count": 7,
   "metadata": {},
   "outputs": [
    {
     "name": "stdout",
     "output_type": "stream",
     "text": [
      "['Al', 'As', 'B', 'Ba', 'Be', 'Ca', 'Cd', 'Cs', 'Ga', 'K', 'La', 'Li', 'Mg', 'Na', 'O', 'P', 'Pb', 'Sc', 'Si', 'Sn', 'Sr', 'Ti', 'Y', 'Zn', 'Zr']\n"
     ]
    },
    {
     "data": {
      "text/plain": [
       "defaultdict(dict,\n",
       "            {'Al2O3': {'Al': 2, 'O': 3},\n",
       "             'As2O5': {'As': 2, 'O': 5},\n",
       "             'B2O3': {'B': 2, 'O': 3},\n",
       "             'BaO': {'Ba': 1, 'O': 1},\n",
       "             'BeO': {'Be': 1, 'O': 1},\n",
       "             'CaO': {'Ca': 1, 'O': 1},\n",
       "             'CdO': {'Cd': 1, 'O': 1},\n",
       "             'Cs2O': {'Cs': 2, 'O': 1},\n",
       "             'Ga2O3': {'Ga': 2, 'O': 3},\n",
       "             'K2O': {'K': 2, 'O': 1},\n",
       "             'La2O3': {'La': 2, 'O': 3},\n",
       "             'Li2O': {'Li': 2, 'O': 1},\n",
       "             'MgO': {'Mg': 1, 'O': 1},\n",
       "             'Na2O': {'Na': 2, 'O': 1},\n",
       "             'P2O5': {'O': 5, 'P': 2},\n",
       "             'PbO': {'O': 1, 'Pb': 1},\n",
       "             'Sc2O3': {'O': 3, 'Sc': 2},\n",
       "             'SiO2': {'O': 2, 'Si': 1},\n",
       "             'SnO2': {'O': 2, 'Sn': 1},\n",
       "             'SrO': {'O': 1, 'Sr': 1},\n",
       "             'TiO2': {'O': 2, 'Ti': 1},\n",
       "             'Y2O3': {'O': 3, 'Y': 2},\n",
       "             'ZnO': {'O': 1, 'Zn': 1},\n",
       "             'ZrO2': {'O': 2, 'Zr': 1}})"
      ]
     },
     "execution_count": 7,
     "metadata": {},
     "output_type": "execute_result"
    }
   ],
   "source": [
    "compound_makeups = pd.read_csv(\"./Descriptor_table_oxide_series_4.csv\")\n",
    "\n",
    "compound_makeups = compound_makeups.drop([\"Unnamed: 0\"], axis=1)\n",
    "element_names = [col for col in compound_makeups.columns]\n",
    "print(element_names)\n",
    "compound_makeups_dict = defaultdict(dict)\n",
    "\n",
    "compound_makeups.head()\n",
    "for i in range(len(compound_makeups)):\n",
    "    for j in range(len(compound_makeups.columns)):\n",
    "        if compound_makeups.iloc[i, j] > 0:\n",
    "            compound_makeups_dict[compound_names[i]][element_names[j]] = compound_makeups.iloc[i, j]\n",
    "compound_makeups_dict"
   ]
  },
  {
   "cell_type": "code",
   "execution_count": 8,
   "metadata": {},
   "outputs": [
    {
     "data": {
      "text/plain": [
       "defaultdict(float, {'Al2O3': 0.02, 'CaO': 0.05, 'Na2O': 0.15, 'SiO2': 0.78})"
      ]
     },
     "execution_count": 8,
     "metadata": {},
     "output_type": "execute_result"
    }
   ],
   "source": [
    "#Do it for the first row\n",
    "compound_moleper = defaultdict(float)\n",
    "for i in range(24):\n",
    "    if sample_0[i] > 0.0:\n",
    "        compound_moleper[compound_names[i]] = sample_0[i]/100\n",
    "compound_moleper"
   ]
  },
  {
   "cell_type": "code",
   "execution_count": 9,
   "metadata": {},
   "outputs": [
    {
     "data": {
      "text/plain": [
       "defaultdict(float, {'Al': 0.04, 'O': 1.82, 'Ca': 0.05, 'Na': 0.3, 'Si': 0.78})"
      ]
     },
     "execution_count": 9,
     "metadata": {},
     "output_type": "execute_result"
    }
   ],
   "source": [
    "weighted_elements = defaultdict(float)\n",
    "for i in compound_moleper.keys():\n",
    "    for j in compound_makeups_dict[i].keys():\n",
    "        weighted_elements[j] += compound_makeups_dict[i][j] * compound_moleper[i]\n",
    "weighted_elements"
   ]
  },
  {
   "cell_type": "code",
   "execution_count": 10,
   "metadata": {},
   "outputs": [
    {
     "name": "stdout",
     "output_type": "stream",
     "text": [
      "2.99\n"
     ]
    }
   ],
   "source": [
    "s = 0\n",
    "for i in weighted_elements.keys():\n",
    "    s += weighted_elements[i]\n",
    "print(s)\n"
   ]
  },
  {
   "cell_type": "code",
   "execution_count": 14,
   "metadata": {},
   "outputs": [
    {
     "data": {
      "text/plain": [
       "100.0"
      ]
     },
     "execution_count": 14,
     "metadata": {},
     "output_type": "execute_result"
    }
   ],
   "source": [
    "percentage_weights = defaultdict(float)\n",
    "for i in weighted_elements.keys():\n",
    "    percentage_weights[i] = (weighted_elements[i]/s) * 100\n",
    "percentage_weights\n",
    "\n",
    "total_sum = 0\n",
    "for i in percentage_weights.keys():\n",
    "    total_sum += percentage_weights[i]\n",
    "total_sum"
   ]
  },
  {
   "cell_type": "code",
   "execution_count": null,
   "metadata": {},
   "outputs": [],
   "source": [
    "#Now do it for all the rows\n",
    "all_percentage_weights\n",
    "for i in range(len(full_data)):\n",
    "    sample_0 = full_data.iloc[i, :]\n",
    "    compound_moleper = defaultdict(float)\n",
    "    for i in range(24):\n",
    "        if sample_0[i] > 0.0:\n",
    "            compound_moleper[compound_names[i]] = sample_0[i]/100\n",
    "    compound_moleper"
   ]
  }
 ],
 "metadata": {
  "kernelspec": {
   "display_name": "Python 3",
   "language": "python",
   "name": "python3"
  },
  "language_info": {
   "codemirror_mode": {
    "name": "ipython",
    "version": 3
   },
   "file_extension": ".py",
   "mimetype": "text/x-python",
   "name": "python",
   "nbconvert_exporter": "python",
   "pygments_lexer": "ipython3",
   "version": "3.8.5"
  }
 },
 "nbformat": 4,
 "nbformat_minor": 4
}
